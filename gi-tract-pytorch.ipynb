{
 "cells": [
  {
   "cell_type": "code",
   "execution_count": null,
   "id": "2db4a9a1",
   "metadata": {
    "_cell_guid": "b1076dfc-b9ad-4769-8c92-a6c4dae69d19",
    "_uuid": "8f2839f25d086af736a60e9eeb907d3b93b6e0e5",
    "papermill": {
     "duration": 18.081277,
     "end_time": "2023-03-25T12:24:18.525604",
     "exception": false,
     "start_time": "2023-03-25T12:24:00.444327",
     "status": "completed"
    },
    "tags": []
   },
   "outputs": [],
   "source": [
    "!pip -q install segmentation_models_pytorch\n",
    "\n",
    "import torch\n",
    "import torch.nn as nn\n",
    "import torch.nn.functional as F\n",
    "import segmentation_models_pytorch as smp"
   ]
  },
  {
   "cell_type": "markdown",
   "id": "34db0a8d",
   "metadata": {
    "papermill": {
     "duration": 0.003595,
     "end_time": "2023-03-25T12:24:18.533367",
     "exception": false,
     "start_time": "2023-03-25T12:24:18.529772",
     "status": "completed"
    },
    "tags": []
   },
   "source": [
    "# Model"
   ]
  },
  {
   "cell_type": "code",
   "execution_count": null,
   "id": "061b820d",
   "metadata": {
    "papermill": {
     "duration": 0.012277,
     "end_time": "2023-03-25T12:24:18.549254",
     "exception": false,
     "start_time": "2023-03-25T12:24:18.536977",
     "status": "completed"
    },
    "tags": []
   },
   "outputs": [],
   "source": [
    "def build_model():\n",
    "    model = smp.Unet(\n",
    "        encoder_name=\"xception\",\n",
    "        encoder_weights=None,\n",
    "        in_channels=3,\n",
    "        classes=3,\n",
    "        activation=None,\n",
    "    )\n",
    "    return model"
   ]
  },
  {
   "cell_type": "code",
   "execution_count": null,
   "id": "c5dbdd10",
   "metadata": {
    "papermill": {
     "duration": 3.091334,
     "end_time": "2023-03-25T12:24:21.644192",
     "exception": false,
     "start_time": "2023-03-25T12:24:18.552858",
     "status": "completed"
    },
    "tags": []
   },
   "outputs": [],
   "source": [
    "device = torch.device(\"cuda\")\n",
    "NUM_CLASSES = 3\n",
    "model = build_model()\n",
    "model = model.to(device)"
   ]
  },
  {
   "cell_type": "markdown",
   "id": "e17620f8",
   "metadata": {
    "papermill": {
     "duration": 0.003535,
     "end_time": "2023-03-25T12:24:21.651791",
     "exception": false,
     "start_time": "2023-03-25T12:24:21.648256",
     "status": "completed"
    },
    "tags": []
   },
   "source": [
    "# -"
   ]
  },
  {
   "cell_type": "code",
   "execution_count": null,
   "id": "4d57ad8b",
   "metadata": {
    "papermill": {
     "duration": 0.841458,
     "end_time": "2023-03-25T12:24:22.496884",
     "exception": false,
     "start_time": "2023-03-25T12:24:21.655426",
     "status": "completed"
    },
    "tags": []
   },
   "outputs": [],
   "source": [
    "import pandas as pd\n",
    "import numpy as np\n",
    "import gc\n",
    "import copy\n",
    "from collections import defaultdict\n",
    "\n",
    "df = pd.read_csv(\"/kaggle/input/gitractcsv/df25D.csv\")\n",
    "df.head()"
   ]
  },
  {
   "cell_type": "code",
   "execution_count": null,
   "id": "7d9bc10a",
   "metadata": {
    "papermill": {
     "duration": 0.013763,
     "end_time": "2023-03-25T12:24:22.514882",
     "exception": false,
     "start_time": "2023-03-25T12:24:22.501119",
     "status": "completed"
    },
    "tags": []
   },
   "outputs": [],
   "source": [
    "from PIL import Image\n",
    "\n",
    "def load_img(path):\n",
    "    img = np.load(path).astype('float32')\n",
    "    mx = np.max(img)\n",
    "    if mx:\n",
    "        img /= mx\n",
    "    return img\n",
    "\n",
    "def load_mask(path):\n",
    "    mask = np.load(path).astype('float32')\n",
    "    mask /= 255.\n",
    "    return mask"
   ]
  },
  {
   "cell_type": "code",
   "execution_count": null,
   "id": "6eef9df1",
   "metadata": {
    "papermill": {
     "duration": 0.015822,
     "end_time": "2023-03-25T12:24:22.534582",
     "exception": false,
     "start_time": "2023-03-25T12:24:22.518760",
     "status": "completed"
    },
    "tags": []
   },
   "outputs": [],
   "source": [
    "class UWMGIDataset(torch.utils.data.Dataset):\n",
    "    def __init__(self, df, label=True, transforms=None):\n",
    "        self.df = df\n",
    "        self.label = label\n",
    "        self.transforms = transforms\n",
    "        \n",
    "    def __getitem__(self, i):\n",
    "        row = df.loc[i]\n",
    "        img = load_img(row.image_path)\n",
    "        \n",
    "        if self.label:\n",
    "            mask = load_mask(row.mask_path)\n",
    "            if self.transforms:\n",
    "                data = self.transforms(image=img, mask=mask)\n",
    "                img, mask = data['image'], data['mask']\n",
    "            img = np.transpose(img, (-1, 0, 1))\n",
    "            mask = np.transpose(mask, (-1, 0, 1))\n",
    "            return torch.tensor(img), torch.tensor(mask)\n",
    "        else:\n",
    "            if self.transforms:\n",
    "                data = self.transforms(image=img)\n",
    "                img = data['image']\n",
    "            img = np.transpose(img, (-1, 0, 1))\n",
    "            return torch.tensor(img)\n",
    "        \n",
    "    def __len__(self):\n",
    "        return len(self.df)"
   ]
  },
  {
   "cell_type": "code",
   "execution_count": null,
   "id": "c3ed45ff",
   "metadata": {
    "papermill": {
     "duration": 1.73956,
     "end_time": "2023-03-25T12:24:24.278045",
     "exception": false,
     "start_time": "2023-03-25T12:24:22.538485",
     "status": "completed"
    },
    "tags": []
   },
   "outputs": [],
   "source": [
    "import albumentations as A\n",
    "import cv2\n",
    "\n",
    "IMG_SIZE = [320, 384]\n",
    "\n",
    "data_transforms = {\n",
    "    \"train\": None,\n",
    "    \"valid\": None\n",
    "}"
   ]
  },
  {
   "cell_type": "code",
   "execution_count": null,
   "id": "d0be7f5e",
   "metadata": {
    "papermill": {
     "duration": 0.033942,
     "end_time": "2023-03-25T12:24:24.316469",
     "exception": false,
     "start_time": "2023-03-25T12:24:24.282527",
     "status": "completed"
    },
    "tags": []
   },
   "outputs": [],
   "source": [
    "from torch.utils.data import DataLoader\n",
    "from sklearn.model_selection import train_test_split\n",
    "BATCH_SIZE = 32\n",
    "\n",
    "train_df, valid_df = train_test_split(df, test_size=.2, random_state=42)\n",
    "train_df = train_df.reset_index(drop=True)\n",
    "valid_df = valid_df.reset_index(drop=True)\n",
    "\n",
    "train_dataset = UWMGIDataset(train_df, label=True, transforms=data_transforms[\"train\"])\n",
    "valid_dataset = UWMGIDataset(valid_df, label=True, transforms=data_transforms[\"valid\"])\n",
    "\n",
    "train_dataloader = DataLoader(train_dataset, BATCH_SIZE, shuffle=True)\n",
    "valid_dataloader = DataLoader(valid_dataset, BATCH_SIZE*2)"
   ]
  },
  {
   "cell_type": "code",
   "execution_count": null,
   "id": "7e10fd7d",
   "metadata": {
    "papermill": {
     "duration": 0.018258,
     "end_time": "2023-03-25T12:24:24.339024",
     "exception": false,
     "start_time": "2023-03-25T12:24:24.320766",
     "status": "completed"
    },
    "tags": []
   },
   "outputs": [],
   "source": [
    "DiceLoss    = smp.losses.DiceLoss(mode='multilabel')\n",
    "BCELoss     = smp.losses.SoftBCEWithLogitsLoss()\n",
    "\n",
    "def criterion(y_pred, y_true):\n",
    "    return 0.5*BCELoss(y_pred, y_true) + 0.5*DiceLoss(y_pred, y_true)"
   ]
  },
  {
   "cell_type": "code",
   "execution_count": null,
   "id": "ecd231bb",
   "metadata": {
    "papermill": {
     "duration": 0.017812,
     "end_time": "2023-03-25T12:24:24.360774",
     "exception": false,
     "start_time": "2023-03-25T12:24:24.342962",
     "status": "completed"
    },
    "tags": []
   },
   "outputs": [],
   "source": [
    "N_ACCUMULATIONS = 1\n",
    "from tqdm import tqdm\n",
    "from torch.cuda import amp\n",
    "\n",
    "def train(model, optimizer, scheduler, dataloader, device, epoch):\n",
    "    model.train()\n",
    "    scaler = amp.GradScaler()\n",
    "    \n",
    "    dataset_size = 0\n",
    "    running_loss = 0.0\n",
    "    \n",
    "    pbar = tqdm(enumerate(dataloader), total=len(dataloader), desc='Train ')\n",
    "    for step, (images, masks) in pbar:         \n",
    "        images = images.to(device, dtype=torch.float)\n",
    "        masks  = masks.to(device, dtype=torch.float)\n",
    "        \n",
    "        batch_size = images.size(0)\n",
    "        \n",
    "        with amp.autocast(enabled=True):\n",
    "            y_pred = model(images)\n",
    "            loss   = criterion(y_pred, masks)\n",
    "            loss   = loss / N_ACCUMULATIONS\n",
    "            \n",
    "        scaler.scale(loss).backward()\n",
    "    \n",
    "        if (step + 1) % N_ACCUMULATIONS == 0:\n",
    "            scaler.step(optimizer)\n",
    "            scaler.update()\n",
    "\n",
    "            optimizer.zero_grad()\n",
    "\n",
    "            if scheduler is not None:\n",
    "                scheduler.step()\n",
    "                \n",
    "        running_loss += (loss.item() * batch_size)\n",
    "        dataset_size += batch_size\n",
    "        \n",
    "        epoch_loss = running_loss / dataset_size\n",
    "    torch.cuda.empty_cache()\n",
    "    gc.collect()\n",
    "    \n",
    "    return epoch_loss"
   ]
  },
  {
   "cell_type": "code",
   "execution_count": null,
   "id": "53a99488",
   "metadata": {
    "papermill": {
     "duration": 0.016145,
     "end_time": "2023-03-25T12:24:24.380827",
     "exception": false,
     "start_time": "2023-03-25T12:24:24.364682",
     "status": "completed"
    },
    "tags": []
   },
   "outputs": [],
   "source": [
    "@torch.no_grad()\n",
    "def valid(model, dataloader, device, epoch):\n",
    "    model.eval()\n",
    "    \n",
    "    dataset_size = 0\n",
    "    running_loss = 0.0\n",
    "    \n",
    "    val_scores = []\n",
    "    \n",
    "    pbar = tqdm(enumerate(dataloader), total=len(dataloader), desc='Valid')\n",
    "    for step, (images, masks) in pbar:        \n",
    "        images  = images.to(device, dtype=torch.float)\n",
    "        masks   = masks.to(device, dtype=torch.float)\n",
    "        \n",
    "        batch_size = images.size(0)\n",
    "        \n",
    "        y_pred  = model(images)\n",
    "        loss    = criterion(y_pred, masks)\n",
    "        \n",
    "        running_loss += (loss.item() * batch_size)\n",
    "        dataset_size += batch_size\n",
    "        \n",
    "        epoch_loss = running_loss / dataset_size\n",
    "        \n",
    "        y_pred = nn.Sigmoid()(y_pred)\n",
    "        val_dice = dice_coef(masks, y_pred).cpu().detach().numpy()\n",
    "        val_jaccard = iou_coef(masks, y_pred).cpu().detach().numpy()\n",
    "        val_scores.append([val_dice, val_jaccard])\n",
    "    val_scores  = np.mean(val_scores, axis=0)\n",
    "    torch.cuda.empty_cache()\n",
    "    gc.collect()\n",
    "    \n",
    "    return epoch_loss, val_scores"
   ]
  },
  {
   "cell_type": "code",
   "execution_count": null,
   "id": "4bfc8d67",
   "metadata": {
    "papermill": {
     "duration": 0.01772,
     "end_time": "2023-03-25T12:24:24.402337",
     "exception": false,
     "start_time": "2023-03-25T12:24:24.384617",
     "status": "completed"
    },
    "tags": []
   },
   "outputs": [],
   "source": [
    "def full_training(model, optimizer, scheduler, device, num_epochs):\n",
    "    \n",
    "    \n",
    "    best_model_wts = None\n",
    "    best_dice      = -np.inf\n",
    "    best_epoch     = -1\n",
    "    history = defaultdict(list)\n",
    "    \n",
    "    for epoch in range(1, num_epochs + 1): \n",
    "        gc.collect()\n",
    "        train_loss = train_one_epoch(model, optimizer, scheduler, \n",
    "                                           dataloader=train_dataloader, \n",
    "                                           device=device, epoch=epoch)\n",
    "        \n",
    "        val_loss, val_scores = valid_one_epoch(model, valid_dataloader, \n",
    "                                                 device=device, \n",
    "                                                 epoch=epoch)\n",
    "        val_dice, val_jaccard = val_scores\n",
    "        \n",
    "        if val_dice >= best_dice:\n",
    "            best_dice    = val_dice\n",
    "            best_jaccard = val_jaccard\n",
    "            best_epoch   = epoch\n",
    "            best_model_wts = copy.deepcopy(model.state_dict())\n",
    "            PATH = f\"best_epoch-{fold:02d}.bin\"\n",
    "            torch.save(model.state_dict(), PATH)\n",
    "            \n",
    "        last_model_wts = copy.deepcopy(model.state_dict())\n",
    "        PATH = f\"last_epoch-{fold:02d}.bin\"\n",
    "        torch.save(model.state_dict(), PATH)\n",
    "        \n",
    "    \n",
    "    model.load_state_dict(best_model_wts)\n",
    "    \n",
    "    return model, history"
   ]
  },
  {
   "cell_type": "code",
   "execution_count": null,
   "id": "dfc1ed98",
   "metadata": {
    "papermill": {
     "duration": 0.014649,
     "end_time": "2023-03-25T12:24:24.420856",
     "exception": false,
     "start_time": "2023-03-25T12:24:24.406207",
     "status": "completed"
    },
    "tags": []
   },
   "outputs": [],
   "source": [
    "from torch.optim import lr_scheduler\n",
    "import torch.optim as optim\n",
    "\n",
    "optimizer = optim.Adam(model.parameters(), lr=1e-4, weight_decay=1e-6)\n",
    "EPOCHS = 5"
   ]
  },
  {
   "cell_type": "code",
   "execution_count": null,
   "id": "8adb390b",
   "metadata": {
    "papermill": {
     "duration": 14725.347233,
     "end_time": "2023-03-25T16:29:49.771971",
     "exception": false,
     "start_time": "2023-03-25T12:24:24.424738",
     "status": "completed"
    },
    "tags": []
   },
   "outputs": [],
   "source": [
    "for fold in range(1):\n",
    "full_training(model, optimizer, scheduler=None, device=device, num_epochs=EPOCHS)"
   ]
  }
 ],
 "metadata": {
  "kernelspec": {
   "display_name": "Python 3",
   "language": "python",
   "name": "python3"
  },
  "language_info": {
   "codemirror_mode": {
    "name": "ipython",
    "version": 3
   },
   "file_extension": ".py",
   "mimetype": "text/x-python",
   "name": "python",
   "nbconvert_exporter": "python",
   "pygments_lexer": "ipython3",
   "version": "3.7.12"
  },
  "papermill": {
   "default_parameters": {},
   "duration": 14762.14618,
   "end_time": "2023-03-25T16:29:53.523400",
   "environment_variables": {},
   "exception": null,
   "input_path": "__notebook__.ipynb",
   "output_path": "__notebook__.ipynb",
   "parameters": {},
   "start_time": "2023-03-25T12:23:51.377220",
   "version": "2.4.0"
  }
 },
 "nbformat": 4,
 "nbformat_minor": 5
}
