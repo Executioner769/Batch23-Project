{
 "cells": [
  {
   "cell_type": "code",
   "execution_count": null,
   "id": "561b1dda",
   "metadata": {
    "_cell_guid": "b1076dfc-b9ad-4769-8c92-a6c4dae69d19",
    "_uuid": "8f2839f25d086af736a60e9eeb907d3b93b6e0e5",
    "papermill": {
     "duration": 22.517863,
     "end_time": "2023-03-24T17:09:46.315057",
     "exception": false,
     "start_time": "2023-03-24T17:09:23.797194",
     "status": "completed"
    },
    "tags": []
   },
   "outputs": [],
   "source": [
    "!pip install torchmetrics -q\n",
    "\n",
    "import torch\n",
    "import torch.nn as nn\n",
    "import torch.nn.functional as F\n",
    "import timm\n",
    "from torchmetrics import Accuracy"
   ]
  },
  {
   "cell_type": "markdown",
   "id": "11877300",
   "metadata": {
    "papermill": {
     "duration": 0.004015,
     "end_time": "2023-03-24T17:09:46.323382",
     "exception": false,
     "start_time": "2023-03-24T17:09:46.319367",
     "status": "completed"
    },
    "tags": []
   },
   "source": [
    "# Model"
   ]
  },
  {
   "cell_type": "code",
   "execution_count": null,
   "id": "4c3b2e8f",
   "metadata": {
    "papermill": {
     "duration": 10.403506,
     "end_time": "2023-03-24T17:09:56.730923",
     "exception": false,
     "start_time": "2023-03-24T17:09:46.327417",
     "status": "completed"
    },
    "tags": []
   },
   "outputs": [],
   "source": [
    "BACKBONE = 'vgg19'\n",
    "device = torch.device(\"cuda\")\n",
    "model = timm.create_model(BACKBONE, num_classes=1, pretrained=True)\n",
    "model = model.to(device)"
   ]
  },
  {
   "cell_type": "markdown",
   "id": "feb54dac",
   "metadata": {
    "papermill": {
     "duration": 0.004092,
     "end_time": "2023-03-24T17:09:56.739308",
     "exception": false,
     "start_time": "2023-03-24T17:09:56.735216",
     "status": "completed"
    },
    "tags": []
   },
   "source": [
    "# -"
   ]
  },
  {
   "cell_type": "code",
   "execution_count": null,
   "id": "c890e10a",
   "metadata": {
    "papermill": {
     "duration": 0.828395,
     "end_time": "2023-03-24T17:09:57.571502",
     "exception": false,
     "start_time": "2023-03-24T17:09:56.743107",
     "status": "completed"
    },
    "tags": []
   },
   "outputs": [],
   "source": [
    "import pandas as pd\n",
    "import numpy as np\n",
    "import gc\n",
    "import copy\n",
    "from collections import defaultdict\n",
    "\n",
    "df = pd.read_csv(\"/kaggle/input/gitractcsv/data.csv\")\n",
    "df.head()"
   ]
  },
  {
   "cell_type": "code",
   "execution_count": null,
   "id": "b148fa50",
   "metadata": {
    "papermill": {
     "duration": 0.024544,
     "end_time": "2023-03-24T17:09:57.600434",
     "exception": false,
     "start_time": "2023-03-24T17:09:57.575890",
     "status": "completed"
    },
    "tags": []
   },
   "outputs": [],
   "source": [
    "df[\"empty\"] = df[\"empty\"].astype(np.int32)\n",
    "df.head()"
   ]
  },
  {
   "cell_type": "code",
   "execution_count": null,
   "id": "184f5ece",
   "metadata": {
    "papermill": {
     "duration": 0.013503,
     "end_time": "2023-03-24T17:09:57.634802",
     "exception": false,
     "start_time": "2023-03-24T17:09:57.621299",
     "status": "completed"
    },
    "tags": []
   },
   "outputs": [],
   "source": [
    "from PIL import Image\n",
    "\n",
    "def load_img(path):\n",
    "    img = Image.open(path)\n",
    "    img = np.expand_dims(np.array(img), axis=-1).astype('float32')\n",
    "    img = np.repeat(img, 3, axis=-1)/255\n",
    "    return img"
   ]
  },
  {
   "cell_type": "code",
   "execution_count": null,
   "id": "1a3f4fcb",
   "metadata": {
    "papermill": {
     "duration": 0.015046,
     "end_time": "2023-03-24T17:09:57.654152",
     "exception": false,
     "start_time": "2023-03-24T17:09:57.639106",
     "status": "completed"
    },
    "tags": []
   },
   "outputs": [],
   "source": [
    "class UWMGIDataset(torch.utils.data.Dataset):\n",
    "    def __init__(self, df, label=True, transforms=None):\n",
    "        self.df = df\n",
    "        self.label = label\n",
    "        self.transforms = transforms\n",
    "        \n",
    "    def __getitem__(self, i):\n",
    "        row = df.loc[i]\n",
    "        img = load_img(row.image_path)\n",
    "        label = row[\"empty\"]\n",
    "        \n",
    "        if self.label:\n",
    "            if self.transforms:\n",
    "                data = self.transforms(image=img)\n",
    "                img = data['image']\n",
    "            img = np.transpose(img, (-1, 0, 1))\n",
    "            return torch.tensor(img), torch.tensor(label)\n",
    "        else:\n",
    "            if self.transforms:\n",
    "                data = self.transforms(image=img)\n",
    "                img = data['image']\n",
    "            img = np.transpose(img, (-1, 0, 1))\n",
    "            return torch.tensor(img)\n",
    "        \n",
    "    def __len__(self):\n",
    "        return len(self.df)"
   ]
  },
  {
   "cell_type": "code",
   "execution_count": null,
   "id": "18428830",
   "metadata": {
    "papermill": {
     "duration": 1.982256,
     "end_time": "2023-03-24T17:09:59.640602",
     "exception": false,
     "start_time": "2023-03-24T17:09:57.658346",
     "status": "completed"
    },
    "tags": []
   },
   "outputs": [],
   "source": [
    "import albumentations as A\n",
    "import cv2\n",
    "\n",
    "IMG_SIZE = [320, 384]\n",
    "\n",
    "data_transforms = {\n",
    "    \"train\": None,\n",
    "    \"valid\": None\n",
    "}"
   ]
  },
  {
   "cell_type": "code",
   "execution_count": null,
   "id": "7959eae5",
   "metadata": {
    "papermill": {
     "duration": 0.033107,
     "end_time": "2023-03-24T17:09:59.678279",
     "exception": false,
     "start_time": "2023-03-24T17:09:59.645172",
     "status": "completed"
    },
    "tags": []
   },
   "outputs": [],
   "source": [
    "from torch.utils.data import DataLoader\n",
    "from sklearn.model_selection import train_test_split\n",
    "BATCH_SIZE = 32\n",
    "\n",
    "train_df, valid_df = train_test_split(df, test_size=.2, random_state=42)\n",
    "train_df = train_df.reset_index(drop=True)\n",
    "valid_df = valid_df.reset_index(drop=True)\n",
    "\n",
    "train_dataset = UWMGIDataset(train_df, label=True, transforms=data_transforms[\"train\"])\n",
    "valid_dataset = UWMGIDataset(valid_df, label=True, transforms=data_transforms[\"valid\"])\n",
    "\n",
    "train_dataloader = DataLoader(train_dataset, BATCH_SIZE, shuffle=True)\n",
    "valid_dataloader = DataLoader(valid_dataset, BATCH_SIZE*2)"
   ]
  },
  {
   "cell_type": "code",
   "execution_count": null,
   "id": "59c54815",
   "metadata": {
    "papermill": {
     "duration": 0.014018,
     "end_time": "2023-03-24T17:09:59.696675",
     "exception": false,
     "start_time": "2023-03-24T17:09:59.682657",
     "status": "completed"
    },
    "tags": []
   },
   "outputs": [],
   "source": [
    "loss_fn = nn.BCEWithLogitsLoss()\n",
    "\n",
    "def criterion(y_pred, y_true):\n",
    "    return loss_fn(y_pred, y_true)\n",
    "\n",
    "accuracy = Accuracy(task=\"binary\").to(device)"
   ]
  },
  {
   "cell_type": "code",
   "execution_count": null,
   "id": "3fd71dc1",
   "metadata": {
    "papermill": {
     "duration": 0.01723,
     "end_time": "2023-03-24T17:09:59.718227",
     "exception": false,
     "start_time": "2023-03-24T17:09:59.700997",
     "status": "completed"
    },
    "tags": []
   },
   "outputs": [],
   "source": [
    "N_ACCUMULATIONS = 1\n",
    "from tqdm import tqdm\n",
    "from torch.cuda import amp\n",
    "\n",
    "def train(model, optimizer, scheduler, dataloader, device, epoch):\n",
    "    model.train()\n",
    "    scaler = amp.GradScaler()\n",
    "    \n",
    "    dataset_size = 0\n",
    "    running_loss = 0.0\n",
    "    \n",
    "    pbar = tqdm(enumerate(dataloader), total=len(dataloader), desc='Train')\n",
    "    for step, (images, labels) in pbar:         \n",
    "        images = images.to(device, dtype=torch.float)\n",
    "        labels  = labels.to(device, dtype=torch.float)\n",
    "        \n",
    "        batch_size = images.size(0)\n",
    "        \n",
    "        with amp.autocast(enabled=True):\n",
    "            y_pred = model(images)\n",
    "            loss   = criterion(y_pred.squeeze(), labels)\n",
    "            loss   = loss / N_ACCUMULATIONS\n",
    "            \n",
    "        scaler.scale(loss).backward()\n",
    "    \n",
    "        if (step + 1) % N_ACCUMULATIONS == 0:\n",
    "            scaler.step(optimizer)\n",
    "            scaler.update()\n",
    "\n",
    "            optimizer.zero_grad()\n",
    "\n",
    "            if scheduler is not None:\n",
    "                scheduler.step()\n",
    "                \n",
    "        running_loss += (loss.item() * batch_size)\n",
    "        dataset_size += batch_size\n",
    "        \n",
    "        epoch_loss = running_loss / dataset_size\n",
    "        \n",
    "    torch.cuda.empty_cache()\n",
    "    gc.collect()\n",
    "    \n",
    "    return epoch_loss"
   ]
  },
  {
   "cell_type": "code",
   "execution_count": null,
   "id": "6a9656c4",
   "metadata": {
    "papermill": {
     "duration": 0.016967,
     "end_time": "2023-03-24T17:09:59.739355",
     "exception": false,
     "start_time": "2023-03-24T17:09:59.722388",
     "status": "completed"
    },
    "tags": []
   },
   "outputs": [],
   "source": [
    "@torch.no_grad()\n",
    "def valid(model, dataloader, device, epoch):\n",
    "    model.eval()\n",
    "    \n",
    "    dataset_size = 0\n",
    "    running_loss = 0.0\n",
    "    \n",
    "    val_scores = []\n",
    "    \n",
    "    pbar = tqdm(enumerate(dataloader), total=len(dataloader), desc='Valid')\n",
    "    for step, (images, labels) in pbar:        \n",
    "        images  = images.to(device, dtype=torch.float)\n",
    "        labels   = labels.to(device, dtype=torch.float)\n",
    "        \n",
    "        batch_size = images.size(0)\n",
    "        \n",
    "        y_pred  = model(images)\n",
    "        loss    = criterion(y_pred.squeeze(), labels)\n",
    "        \n",
    "        running_loss += (loss.item() * batch_size)\n",
    "        dataset_size += batch_size\n",
    "        \n",
    "        epoch_loss = running_loss / dataset_size\n",
    "        \n",
    "        y_pred = nn.Sigmoid()(y_pred)\n",
    "        accuracy_value  = accuracy(y_pred.squeeze(), labels).item()\n",
    "        val_scores.append(accuracy_value)\n",
    "    val_scores  = np.mean(val_scores, axis=0)\n",
    "    torch.cuda.empty_cache()\n",
    "    gc.collect()\n",
    "    \n",
    "    return epoch_loss, val_scores"
   ]
  },
  {
   "cell_type": "code",
   "execution_count": null,
   "id": "97d7b40e",
   "metadata": {
    "papermill": {
     "duration": 0.016479,
     "end_time": "2023-03-24T17:09:59.759996",
     "exception": false,
     "start_time": "2023-03-24T17:09:59.743517",
     "status": "completed"
    },
    "tags": []
   },
   "outputs": [],
   "source": [
    "def full_training(model, optimizer, scheduler, device, num_epochs):\n",
    "    \n",
    "    \n",
    "    best_model_wts = None\n",
    "    best_accuracy      = -np.inf\n",
    "    best_epoch     = -1\n",
    "    history = defaultdict(list)\n",
    "    \n",
    "    for epoch in range(1, num_epochs + 1): \n",
    "        gc.collect()\n",
    "        train_loss = train_one_epoch(model, optimizer, scheduler, \n",
    "                                           dataloader=train_dataloader, \n",
    "                                           device=device, epoch=epoch)\n",
    "        \n",
    "        val_loss, val_scores = valid_one_epoch(model, valid_dataloader, \n",
    "                                                 device=device, \n",
    "                                                 epoch=epoch)\n",
    "        val_accuracy = val_scores\n",
    "        \n",
    "        if val_accuracy >= best_accuracy:\n",
    "            best_accuracy  = val_accuracy\n",
    "            best_epoch   = epoch\n",
    "            best_model_wts = copy.deepcopy(model.state_dict())\n",
    "            PATH = f\"best_epoch-{fold:02d}.bin\"\n",
    "            torch.save(model.state_dict(), PATH)\n",
    "            \n",
    "        last_model_wts = copy.deepcopy(model.state_dict())\n",
    "        PATH = f\"last_epoch-{fold:02d}.bin\"\n",
    "        torch.save(model.state_dict(), PATH)\n",
    "    \n",
    "    model.load_state_dict(best_model_wts)\n",
    "    \n",
    "    return model, history"
   ]
  },
  {
   "cell_type": "code",
   "execution_count": null,
   "id": "01b9cb9b",
   "metadata": {
    "papermill": {
     "duration": 0.012463,
     "end_time": "2023-03-24T17:09:59.776579",
     "exception": false,
     "start_time": "2023-03-24T17:09:59.764116",
     "status": "completed"
    },
    "tags": []
   },
   "outputs": [],
   "source": [
    "from torch.optim import lr_scheduler\n",
    "import torch.optim as optim\n",
    "\n",
    "optimizer = optim.Adam(model.parameters(), lr=1e-5, weight_decay=1e-6)\n",
    "EPOCHS = 5"
   ]
  },
  {
   "cell_type": "code",
   "execution_count": null,
   "id": "1e3ba779",
   "metadata": {
    "papermill": {
     "duration": 9687.499477,
     "end_time": "2023-03-24T19:51:27.280577",
     "exception": false,
     "start_time": "2023-03-24T17:09:59.781100",
     "status": "completed"
    },
    "tags": []
   },
   "outputs": [],
   "source": [
    "for fold in range(1):\n",
    "full_training(model, optimizer, scheduler=None, device=device, num_epochs=EPOCHS)"
   ]
  }
 ],
 "metadata": {
  "kernelspec": {
   "display_name": "Python 3",
   "language": "python",
   "name": "python3"
  },
  "language_info": {
   "codemirror_mode": {
    "name": "ipython",
    "version": 3
   },
   "file_extension": ".py",
   "mimetype": "text/x-python",
   "name": "python",
   "nbconvert_exporter": "python",
   "pygments_lexer": "ipython3",
   "version": "3.7.12"
  },
  "papermill": {
   "default_parameters": {},
   "duration": 9736.884257,
   "end_time": "2023-03-24T19:51:30.923238",
   "environment_variables": {},
   "exception": null,
   "input_path": "__notebook__.ipynb",
   "output_path": "__notebook__.ipynb",
   "parameters": {},
   "start_time": "2023-03-24T17:09:14.038981",
   "version": "2.4.0"
  }
 },
 "nbformat": 4,
 "nbformat_minor": 5
}
